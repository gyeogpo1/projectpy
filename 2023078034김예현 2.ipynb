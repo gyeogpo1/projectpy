{
 "cells": [
  {
   "cell_type": "code",
   "execution_count": 4,
   "id": "2997f4d0",
   "metadata": {},
   "outputs": [
    {
     "name": "stdout",
     "output_type": "stream",
     "text": [
      "Enter details for student 1:\n",
      "학번: 1\n",
      "이름: 김\n",
      "영어 점수: 1\n",
      "C언어 점수: 2\n",
      "파이썬 점수: 3\n",
      "Enter details for student 2:\n",
      "학번: 2\n",
      "이름: 이\n",
      "영어 점수: 1\n",
      "C언어 점수: 2\n",
      "파이썬 점수: 3\n",
      "Enter details for student 3:\n",
      "학번: 3\n",
      "이름: 송\n",
      "영어 점수: 1\n",
      "C언어 점수: 2\n",
      "파이썬 점수: 3\n",
      "Enter details for student 4:\n",
      "학번: 4\n",
      "이름: 앙\n",
      "영어 점수: 1\n",
      "C언어 점수: 2\n",
      "파이썬 점수: 3\n",
      "Enter details for student 5:\n",
      "학번: 5\n",
      "이름: 조\n",
      "영어 점수: 1\n",
      "C언어 점수: 2\n",
      "파이썬 점수: 3\n",
      "===============================================================================\n",
      "학번              이름              영어         C-언어       파이썬        총점         평균         학점         등수        \n",
      "===============================================================================\n",
      "1               김               1          2          3          6          2.00       F          1         \n",
      "2               이               1          2          3          6          2.00       F          2         \n",
      "3               송               1          2          3          6          2.00       F          3         \n",
      "4               앙               1          2          3          6          2.00       F          4         \n",
      "5               조               1          2          3          6          2.00       F          5         \n"
     ]
    }
   ],
   "source": [
    "def student_score(number, name, english, c, py):\n",
    "    total = english + c + py\n",
    "    average = total / 3\n",
    "    if average >= 90:\n",
    "        grade = 'A'\n",
    "    elif average >= 80:\n",
    "        grade = 'B'\n",
    "    elif average >= 70:\n",
    "        grade = 'C'\n",
    "    elif average >= 60:\n",
    "        grade = 'D'\n",
    "    else:\n",
    "        grade = 'F'\n",
    "    return total, average, grade\n",
    "\n",
    "students = []\n",
    "for i in range(5):\n",
    "    print(f\"학생의 정보를 입력하시오 {i+1}:\")\n",
    "    number = int(input(\"학번: \"))\n",
    "    name = input(\"이름: \")\n",
    "    english = int(input(\"영어 점수: \"))\n",
    "    c = int(input(\"C언어 점수: \"))\n",
    "    py = int(input(\"파이썬 점수: \"))\n",
    "    total, average, grade = student_score(number, name, english, c, py)\n",
    "    students.append({'number': number, 'name': name, 'english': english, 'c': c, 'py': py, 'total': total, 'average': average, 'grade': grade})\n",
    "\n",
    "# 등수 계산\n",
    "students.sort(key=lambda x: x['total'], reverse=True)\n",
    "for i, student in enumerate(students):\n",
    "    student['rank'] = i + 1\n",
    "\n",
    "# 출력\n",
    "print(\"=======================================================================================================================================\")\n",
    "print(\"{:<15} {:<15} {:<10} {:<10} {:<10} {:<10} {:<10} {:<10} {:<10}\".format(\"학번\", \"이름\", \"영어\", \"C-언어\", \"파이썬\", \"총점\", \"평균\", \"학점\", \"등수\"))\n",
    "print(\"=======================================================================================================================================\")\n",
    "for student in students:\n",
    "    print(\"{:<15} {:<15} {:<10} {:<10} {:<10} {:<10} {:<10.2f} {:<10} {:<10}\".format(student['number'], student['name'], student['english'], student['c'], student['py'], student['total'], student['average'], student['grade'], student['rank']))\n"
   ]
  },
  {
   "cell_type": "markdown",
   "id": "ac3286b1",
   "metadata": {},
   "source": [
    "## "
   ]
  }
 ],
 "metadata": {
  "kernelspec": {
   "display_name": "Python 3 (ipykernel)",
   "language": "python",
   "name": "python3"
  },
  "language_info": {
   "codemirror_mode": {
    "name": "ipython",
    "version": 3
   },
   "file_extension": ".py",
   "mimetype": "text/x-python",
   "name": "python",
   "nbconvert_exporter": "python",
   "pygments_lexer": "ipython3",
   "version": "3.9.13"
  }
 },
 "nbformat": 4,
 "nbformat_minor": 5
}
